{
 "cells": [
  {
   "cell_type": "code",
   "execution_count": 1,
   "metadata": {},
   "outputs": [
    {
     "name": "stdout",
     "output_type": "stream",
     "text": [
      "Collecting pandas\n",
      "  Using cached pandas-1.5.3-cp39-cp39-win_amd64.whl (10.9 MB)\n",
      "Requirement already satisfied: numpy>=1.20.3 in c:\\users\\ali\\miniconda3\\lib\\site-packages (from pandas) (1.20.3)\n",
      "Requirement already satisfied: python-dateutil>=2.8.1 in c:\\users\\ali\\appdata\\roaming\\python\\python39\\site-packages (from pandas) (2.8.2)\n",
      "Collecting pytz>=2020.1\n",
      "  Using cached pytz-2022.7.1-py2.py3-none-any.whl (499 kB)\n",
      "Requirement already satisfied: six>=1.5 in c:\\users\\ali\\appdata\\roaming\\python\\python39\\site-packages (from python-dateutil>=2.8.1->pandas) (1.16.0)\n",
      "Installing collected packages: pytz, pandas\n",
      "Successfully installed pandas-1.5.3 pytz-2022.7.1\n"
     ]
    }
   ],
   "source": [
    "# Mohammad Ali Zahir\n",
    "# Student ID: 40077619\n",
    "# COMP 333 - Data Analytics\n",
    "# Objective: By using the pandas library, produce some similar plots from the dataset\n",
    "# Source: \"./Assignment1/tips.csv\"\n",
    "# Output: Plots from the following url: https://en.wikipedia.org/wiki/Exploratory_data_analysis"
   ]
  },
  {
   "cell_type": "code",
   "execution_count": 2,
   "metadata": {},
   "outputs": [
    {
     "name": "stdout",
     "output_type": "stream",
     "text": [
      "Requirement already satisfied: pandas in c:\\users\\ali\\miniconda3\\lib\\site-packages (1.5.3)\n",
      "Requirement already satisfied: numpy>=1.20.3 in c:\\users\\ali\\miniconda3\\lib\\site-packages (from pandas) (1.20.3)\n",
      "Requirement already satisfied: python-dateutil>=2.8.1 in c:\\users\\ali\\appdata\\roaming\\python\\python39\\site-packages (from pandas) (2.8.2)\n",
      "Requirement already satisfied: pytz>=2020.1 in c:\\users\\ali\\miniconda3\\lib\\site-packages (from pandas) (2022.7.1)\n",
      "Requirement already satisfied: six>=1.5 in c:\\users\\ali\\appdata\\roaming\\python\\python39\\site-packages (from python-dateutil>=2.8.1->pandas) (1.16.0)\n",
      "Collecting seaborn\n",
      "  Downloading seaborn-0.12.2-py3-none-any.whl (293 kB)\n",
      "Requirement already satisfied: numpy!=1.24.0,>=1.17 in c:\\users\\ali\\miniconda3\\lib\\site-packages (from seaborn) (1.20.3)\n",
      "Requirement already satisfied: matplotlib!=3.6.1,>=3.1 in c:\\users\\ali\\appdata\\roaming\\python\\python39\\site-packages (from seaborn) (3.4.3)\n",
      "Requirement already satisfied: pandas>=0.25 in c:\\users\\ali\\miniconda3\\lib\\site-packages (from seaborn) (1.5.3)\n",
      "Requirement already satisfied: python-dateutil>=2.7 in c:\\users\\ali\\appdata\\roaming\\python\\python39\\site-packages (from matplotlib!=3.6.1,>=3.1->seaborn) (2.8.2)\n",
      "Requirement already satisfied: pillow>=6.2.0 in c:\\users\\ali\\appdata\\roaming\\python\\python39\\site-packages (from matplotlib!=3.6.1,>=3.1->seaborn) (8.3.2)\n",
      "Requirement already satisfied: cycler>=0.10 in c:\\users\\ali\\appdata\\roaming\\python\\python39\\site-packages (from matplotlib!=3.6.1,>=3.1->seaborn) (0.10.0)\n",
      "Requirement already satisfied: kiwisolver>=1.0.1 in c:\\users\\ali\\appdata\\roaming\\python\\python39\\site-packages (from matplotlib!=3.6.1,>=3.1->seaborn) (1.3.2)\n",
      "Requirement already satisfied: pyparsing>=2.2.1 in c:\\users\\ali\\appdata\\roaming\\python\\python39\\site-packages (from matplotlib!=3.6.1,>=3.1->seaborn) (2.4.7)\n",
      "Requirement already satisfied: six in c:\\users\\ali\\appdata\\roaming\\python\\python39\\site-packages (from cycler>=0.10->matplotlib!=3.6.1,>=3.1->seaborn) (1.16.0)\n",
      "Requirement already satisfied: pytz>=2020.1 in c:\\users\\ali\\miniconda3\\lib\\site-packages (from pandas>=0.25->seaborn) (2022.7.1)\n",
      "Installing collected packages: seaborn\n",
      "Successfully installed seaborn-0.12.2\n",
      "Requirement already satisfied: matplotlib in c:\\users\\ali\\appdata\\roaming\\python\\python39\\site-packages (3.4.3)\n",
      "Requirement already satisfied: numpy>=1.16 in c:\\users\\ali\\miniconda3\\lib\\site-packages (from matplotlib) (1.20.3)\n",
      "Requirement already satisfied: pillow>=6.2.0 in c:\\users\\ali\\appdata\\roaming\\python\\python39\\site-packages (from matplotlib) (8.3.2)\n",
      "Requirement already satisfied: pyparsing>=2.2.1 in c:\\users\\ali\\appdata\\roaming\\python\\python39\\site-packages (from matplotlib) (2.4.7)\n",
      "Requirement already satisfied: kiwisolver>=1.0.1 in c:\\users\\ali\\appdata\\roaming\\python\\python39\\site-packages (from matplotlib) (1.3.2)\n",
      "Requirement already satisfied: python-dateutil>=2.7 in c:\\users\\ali\\appdata\\roaming\\python\\python39\\site-packages (from matplotlib) (2.8.2)\n",
      "Requirement already satisfied: cycler>=0.10 in c:\\users\\ali\\appdata\\roaming\\python\\python39\\site-packages (from matplotlib) (0.10.0)\n",
      "Requirement already satisfied: six in c:\\users\\ali\\appdata\\roaming\\python\\python39\\site-packages (from cycler>=0.10->matplotlib) (1.16.0)\n"
     ]
    }
   ],
   "source": [
    "# Installing the proper librairies\n",
    "# !pip install pandas\n",
    "# !pip install seaborn\n",
    "# !pip install matplotlib"
   ]
  },
  {
   "cell_type": "code",
   "execution_count": 11,
   "metadata": {},
   "outputs": [],
   "source": [
    "# Importing the required libraries\n",
    "\n",
    "import pandas as pd\n",
    "import matplotlib.pyplot as plt\n",
    "import seaborn as sns "
   ]
  },
  {
   "cell_type": "code",
   "execution_count": 8,
   "metadata": {},
   "outputs": [
    {
     "name": "stdout",
     "output_type": "stream",
     "text": [
      "   Unnamed: 0  total_bill   tip     sex smoker  day    time  size\n",
      "0           1       16.99  1.01  Female     No  Sun  Dinner     2\n",
      "1           2       10.34  1.66    Male     No  Sun  Dinner     3\n",
      "2           3       21.01  3.50    Male     No  Sun  Dinner     3\n",
      "3           4       23.68  3.31    Male     No  Sun  Dinner     2\n",
      "4           5       24.59  3.61  Female     No  Sun  Dinner     4\n",
      "5           6       25.29  4.71    Male     No  Sun  Dinner     4\n",
      "6           7        8.77  2.00    Male     No  Sun  Dinner     2\n",
      "7           8       26.88  3.12    Male     No  Sun  Dinner     4\n",
      "8           9       15.04  1.96    Male     No  Sun  Dinner     2\n",
      "9          10       14.78  3.23    Male     No  Sun  Dinner     2\n"
     ]
    }
   ],
   "source": [
    "# Reading the CSV file and seeing if it friends\n",
    "tips_data = pd.read_csv(\"./Assignment1/tips.csv\")\n",
    "\n",
    "# Create variable for the first 10 rows\n",
    "first_10_row =tips_data.head(10)\n",
    "\n",
    "# Prints the first 10 rows \n",
    "print(first_10_row)\n"
   ]
  },
  {
   "cell_type": "code",
   "execution_count": 36,
   "metadata": {},
   "outputs": [
    {
     "data": {
      "text/plain": [
       "Text(0.5, 1.0, 'Total Bill BoxPlot')"
      ]
     },
     "execution_count": 36,
     "metadata": {},
     "output_type": "execute_result"
    },
    {
     "data": {
      "image/png": "[encoded data removed]",
      "text/plain": [
       "<Figure size 432x288 with 1 Axes>"
      ]
     },
     "metadata": {
      "needs_background": "light"
     },
     "output_type": "display_data"
    }
   ],
   "source": [
    "# Creating the boxplot for the total bill\n",
    "box1 = tips_data.boxplot(column=['total_bill'])\n",
    "box1.set_title('Total Bill BoxPlot')\n"
   ]
  },
  {
   "cell_type": "code",
   "execution_count": 33,
   "metadata": {},
   "outputs": [
    {
     "name": "stderr",
     "output_type": "stream",
     "text": [
      "C:\\Users\\Ali\\AppData\\Local\\Temp\\ipykernel_3004\\977974571.py:3: UserWarning: Ignoring `palette` because no `hue` variable has been assigned.\n",
      "  scatter1 = sns.scatterplot(data=tips_data, x=\"total_bill\", y=\"tip\", palette=\"deep\")\n"
     ]
    },
    {
     "data": {
      "text/plain": [
       "[Text(0.5, 0, 'Total Bill'),\n",
       " Text(0, 0.5, 'Tips'),\n",
       " Text(0.5, 1.0, 'Tips vs Total Bill')]"
      ]
     },
     "execution_count": 33,
     "metadata": {},
     "output_type": "execute_result"
    },
    {
     "data": {
      "image/png": "[encoded data removed]",
      "text/plain": [
       "<Figure size 432x288 with 1 Axes>"
      ]
     },
     "metadata": {
      "needs_background": "light"
     },
     "output_type": "display_data"
    }
   ],
   "source": [
    "# Creating a sns scatterplot\n",
    "\n",
    "scatter1 = sns.scatterplot(data=tips_data, x=\"total_bill\", y=\"tip\", palette=\"deep\")\n",
    "\n",
    "scatter1.set(xlabel=\"Total Bill\", ylabel=\"Tips\", title=\"Tips vs Total Bill\")"
   ]
  },
  {
   "cell_type": "code",
   "execution_count": 38,
   "metadata": {},
   "outputs": [
    {
     "data": {
      "text/plain": [
       "[Text(0.5, 0, 'Party Size'),\n",
       " Text(0, 0.5, 'Tip Rate'),\n",
       " Text(0.5, 1.0, 'Tip Rate vs. Party Size')]"
      ]
     },
     "execution_count": 38,
     "metadata": {},
     "output_type": "execute_result"
    },
    {
     "data": {
      "image/png": "[encoded data removed]",
      "text/plain": [
       "<Figure size 432x288 with 1 Axes>"
      ]
     },
     "metadata": {
      "needs_background": "light"
     },
     "output_type": "display_data"
    }
   ],
   "source": [
    "tip_rate = 0.18 - 0.1* tips_data['size']\n",
    "\n",
    "scatter2 = sns.scatterplot(data = tips_data, y = tip_rate, x = 'size')\n",
    "scatter2.set(xlabel=\"Party Size\", ylabel= 'Tip Rate', title= 'Tip Rate vs. Party Size')\n"
   ]
  }
 ],
 "metadata": {
  "kernelspec": {
   "display_name": "base",
   "language": "python",
   "name": "python3"
  },
  "language_info": {
   "codemirror_mode": {
    "name": "ipython",
    "version": 3
   },
   "file_extension": ".py",
   "mimetype": "text/x-python",
   "name": "python",
   "nbconvert_exporter": "python",
   "pygments_lexer": "ipython3",
   "version": "3.9.5"
  },
  "orig_nbformat": 4,
  "vscode": {
   "interpreter": {
    "hash": "abc030ceda3fa41b1033bd06889a319332e54a2aa5c62425fac5abb05d76f141"
   }
  }
 },
 "nbformat": 4,
 "nbformat_minor": 2
}
