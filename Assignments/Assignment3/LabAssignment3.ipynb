{
 "cells": [
  {
   "cell_type": "code",
   "execution_count": 3,
   "metadata": {},
   "outputs": [],
   "source": [
    "# Mohammad Ali Zahir\n",
    "# Student ID: 40077619\n",
    "# COMP 333 - Data Analytics\n",
    "# Objective: apply Python and pandas for data wranglingllustrate their use within the notebook.\n",
    "# Output: Show how the data wrangling works"
   ]
  },
  {
   "cell_type": "code",
   "execution_count": 4,
   "metadata": {},
   "outputs": [
    {
     "name": "stdout",
     "output_type": "stream",
     "text": [
      "Requirement already satisfied: distance in c:\\users\\ali\\miniconda3\\lib\\site-packages (0.1.3)\n"
     ]
    }
   ],
   "source": [
    "!pip install distance"
   ]
  },
  {
   "attachments": {},
   "cell_type": "markdown",
   "metadata": {},
   "source": [
    "# Librairies"
   ]
  },
  {
   "cell_type": "code",
   "execution_count": 5,
   "metadata": {},
   "outputs": [],
   "source": [
    "import pandas as pd\n",
    "import seaborn as sns\n",
    "import distance as dist\n",
    "import numpy as np\n",
    "from sklearn.cluster import AffinityPropagation"
   ]
  },
  {
   "attachments": {},
   "cell_type": "markdown",
   "metadata": {},
   "source": [
    "# Loading the dataset"
   ]
  },
  {
   "cell_type": "code",
   "execution_count": 6,
   "metadata": {},
   "outputs": [
    {
     "name": "stderr",
     "output_type": "stream",
     "text": [
      "C:\\Users\\Ali\\AppData\\Local\\Temp\\ipykernel_37756\\2272911397.py:1: DtypeWarning: Columns (11,12,13,16,17,18,33,35) have mixed types. Specify dtype option on import or set low_memory=False.\n",
      "  initial_df = pd.read_csv('./data/Portal_rodents_19772002_scinameUUIDs.csv', encoding = \"ISO-8859-1\")\n"
     ]
    },
    {
     "data": {
      "text/html": [
       "<div>\n",
       "<style scoped>\n",
       "    .dataframe tbody tr th:only-of-type {\n",
       "        vertical-align: middle;\n",
       "    }\n",
       "\n",
       "    .dataframe tbody tr th {\n",
       "        vertical-align: top;\n",
       "    }\n",
       "\n",
       "    .dataframe thead th {\n",
       "        text-align: right;\n",
       "    }\n",
       "</style>\n",
       "<table border=\"1\" class=\"dataframe\">\n",
       "  <thead>\n",
       "    <tr style=\"text-align: right;\">\n",
       "      <th></th>\n",
       "      <th>survey_id</th>\n",
       "      <th>recordID</th>\n",
       "      <th>mo</th>\n",
       "      <th>dy</th>\n",
       "      <th>yr</th>\n",
       "      <th>period</th>\n",
       "      <th>plot_id</th>\n",
       "      <th>plot</th>\n",
       "      <th>note1</th>\n",
       "      <th>stake</th>\n",
       "      <th>...</th>\n",
       "      <th>tag</th>\n",
       "      <th>note2</th>\n",
       "      <th>ltag</th>\n",
       "      <th>note3</th>\n",
       "      <th>prevrt</th>\n",
       "      <th>prevlet</th>\n",
       "      <th>nestdir</th>\n",
       "      <th>neststk</th>\n",
       "      <th>note4</th>\n",
       "      <th>note5</th>\n",
       "    </tr>\n",
       "  </thead>\n",
       "  <tbody>\n",
       "    <tr>\n",
       "      <th>0</th>\n",
       "      <td>491ec41b-0a80-4ce9-b754-2983c6f38e71</td>\n",
       "      <td>6545</td>\n",
       "      <td>9</td>\n",
       "      <td>18</td>\n",
       "      <td>1982</td>\n",
       "      <td>62.0</td>\n",
       "      <td>4dc16022-f28d-4b9d-9062-c7bc3ad43362</td>\n",
       "      <td>13</td>\n",
       "      <td>13.0</td>\n",
       "      <td>36.0</td>\n",
       "      <td>...</td>\n",
       "      <td>NaN</td>\n",
       "      <td>NaN</td>\n",
       "      <td>NaN</td>\n",
       "      <td>NaN</td>\n",
       "      <td>NaN</td>\n",
       "      <td>NaN</td>\n",
       "      <td>NaN</td>\n",
       "      <td>NaN</td>\n",
       "      <td>NaN</td>\n",
       "      <td>NaN</td>\n",
       "    </tr>\n",
       "    <tr>\n",
       "      <th>1</th>\n",
       "      <td>f280bade-4e9b-447d-afe0-9e6d45e6bfb0</td>\n",
       "      <td>5220</td>\n",
       "      <td>1</td>\n",
       "      <td>24</td>\n",
       "      <td>1982</td>\n",
       "      <td>54.0</td>\n",
       "      <td>dcbbd373-c22e-46ef-ae8b-ad88f5cf7475</td>\n",
       "      <td>20</td>\n",
       "      <td>13.0</td>\n",
       "      <td>27.0</td>\n",
       "      <td>...</td>\n",
       "      <td>NaN</td>\n",
       "      <td>NaN</td>\n",
       "      <td>NaN</td>\n",
       "      <td>NaN</td>\n",
       "      <td>NaN</td>\n",
       "      <td>NaN</td>\n",
       "      <td>NaN</td>\n",
       "      <td>NaN</td>\n",
       "      <td>NaN</td>\n",
       "      <td>NaN</td>\n",
       "    </tr>\n",
       "    <tr>\n",
       "      <th>2</th>\n",
       "      <td>2b1b4a8a-c3e9-4781-a5f9-18b081383876</td>\n",
       "      <td>18932</td>\n",
       "      <td>8</td>\n",
       "      <td>7</td>\n",
       "      <td>1991</td>\n",
       "      <td>162.0</td>\n",
       "      <td>1e87b11b-4795-4f41-bdff-2d5c4412be25</td>\n",
       "      <td>19</td>\n",
       "      <td>13.0</td>\n",
       "      <td>33.0</td>\n",
       "      <td>...</td>\n",
       "      <td>NaN</td>\n",
       "      <td>NaN</td>\n",
       "      <td>NaN</td>\n",
       "      <td>NaN</td>\n",
       "      <td>NaN</td>\n",
       "      <td>NaN</td>\n",
       "      <td>NaN</td>\n",
       "      <td>NaN</td>\n",
       "      <td>NaN</td>\n",
       "      <td>D</td>\n",
       "    </tr>\n",
       "    <tr>\n",
       "      <th>3</th>\n",
       "      <td>e98e66c4-514b-45f7-9d95-336c05a72b21</td>\n",
       "      <td>20588</td>\n",
       "      <td>1</td>\n",
       "      <td>24</td>\n",
       "      <td>1993</td>\n",
       "      <td>179.0</td>\n",
       "      <td>91829d58-c12e-47e8-ae31-185f46be21d2</td>\n",
       "      <td>12</td>\n",
       "      <td>13.0</td>\n",
       "      <td>41.0</td>\n",
       "      <td>...</td>\n",
       "      <td>NaN</td>\n",
       "      <td>NaN</td>\n",
       "      <td>NaN</td>\n",
       "      <td>NaN</td>\n",
       "      <td>NaN</td>\n",
       "      <td>NaN</td>\n",
       "      <td>NaN</td>\n",
       "      <td>NaN</td>\n",
       "      <td>NaN</td>\n",
       "      <td>NaN</td>\n",
       "    </tr>\n",
       "    <tr>\n",
       "      <th>4</th>\n",
       "      <td>768cdd0d-93bc-4c74-9dcd-d1ed48b7501e</td>\n",
       "      <td>7020</td>\n",
       "      <td>11</td>\n",
       "      <td>21</td>\n",
       "      <td>1982</td>\n",
       "      <td>63.0</td>\n",
       "      <td>f24f2db6-eadd-4de9-9d2f-95aea376c013</td>\n",
       "      <td>24</td>\n",
       "      <td>13.0</td>\n",
       "      <td>72.0</td>\n",
       "      <td>...</td>\n",
       "      <td>NaN</td>\n",
       "      <td>NaN</td>\n",
       "      <td>NaN</td>\n",
       "      <td>NaN</td>\n",
       "      <td>NaN</td>\n",
       "      <td>NaN</td>\n",
       "      <td>NaN</td>\n",
       "      <td>NaN</td>\n",
       "      <td>NaN</td>\n",
       "      <td>NaN</td>\n",
       "    </tr>\n",
       "  </tbody>\n",
       "</table>\n",
       "<p>5 rows × 39 columns</p>\n",
       "</div>"
      ],
      "text/plain": [
       "                              survey_id  recordID  mo  dy    yr  period  \\\n",
       "0  491ec41b-0a80-4ce9-b754-2983c6f38e71      6545   9  18  1982    62.0   \n",
       "1  f280bade-4e9b-447d-afe0-9e6d45e6bfb0      5220   1  24  1982    54.0   \n",
       "2  2b1b4a8a-c3e9-4781-a5f9-18b081383876     18932   8   7  1991   162.0   \n",
       "3  e98e66c4-514b-45f7-9d95-336c05a72b21     20588   1  24  1993   179.0   \n",
       "4  768cdd0d-93bc-4c74-9dcd-d1ed48b7501e      7020  11  21  1982    63.0   \n",
       "\n",
       "                                plot_id  plot  note1  stake  ...  tag note2  \\\n",
       "0  4dc16022-f28d-4b9d-9062-c7bc3ad43362    13   13.0   36.0  ...  NaN   NaN   \n",
       "1  dcbbd373-c22e-46ef-ae8b-ad88f5cf7475    20   13.0   27.0  ...  NaN   NaN   \n",
       "2  1e87b11b-4795-4f41-bdff-2d5c4412be25    19   13.0   33.0  ...  NaN   NaN   \n",
       "3  91829d58-c12e-47e8-ae31-185f46be21d2    12   13.0   41.0  ...  NaN   NaN   \n",
       "4  f24f2db6-eadd-4de9-9d2f-95aea376c013    24   13.0   72.0  ...  NaN   NaN   \n",
       "\n",
       "  ltag note3  prevrt  prevlet nestdir neststk note4 note5  \n",
       "0  NaN   NaN     NaN      NaN     NaN     NaN   NaN   NaN  \n",
       "1  NaN   NaN     NaN      NaN     NaN     NaN   NaN   NaN  \n",
       "2  NaN   NaN     NaN      NaN     NaN     NaN   NaN     D  \n",
       "3  NaN   NaN     NaN      NaN     NaN     NaN   NaN   NaN  \n",
       "4  NaN   NaN     NaN      NaN     NaN     NaN   NaN   NaN  \n",
       "\n",
       "[5 rows x 39 columns]"
      ]
     },
     "execution_count": 6,
     "metadata": {},
     "output_type": "execute_result"
    }
   ],
   "source": [
    "initial_df = pd.read_csv('./data/Portal_rodents_19772002_scinameUUIDs.csv', encoding = \"ISO-8859-1\")\n",
    "\n",
    "initial_df.head()"
   ]
  },
  {
   "attachments": {},
   "cell_type": "markdown",
   "metadata": {},
   "source": [
    "# Functions for data wrangling"
   ]
  },
  {
   "attachments": {},
   "cell_type": "markdown",
   "metadata": {},
   "source": [
    "## Step 1: String Processing"
   ]
  },
  {
   "cell_type": "code",
   "execution_count": 7,
   "metadata": {},
   "outputs": [],
   "source": [
    "# Create a function which applies remove whitespace and the start and at the front and removes internal whitespace\n",
    "\n",
    "def string_processing(df):\n",
    "  # select all columns that have string data type\n",
    "  object_cols = df.select_dtypes(include=['object']).columns\n",
    "\n",
    "  # apply strip method to each string column\n",
    "  df[object_cols] = df[object_cols].apply(lambda x: x.str.strip())\n",
    "\n",
    "  # replace internal whitespace with a single space\n",
    "  df[object_cols] = df[object_cols].replace('\\s+', ' ', regex=True)"
   ]
  },
  {
   "attachments": {},
   "cell_type": "markdown",
   "metadata": {},
   "source": [
    "## Step 2: Creating different facets for variables"
   ]
  },
  {
   "cell_type": "code",
   "execution_count": 8,
   "metadata": {},
   "outputs": [],
   "source": [
    "# Create a function which returns the values for all the columns and then sorts them\n",
    "def text_facet(df, column: str):\n",
    "    return df[column].value_counts().sort_index()"
   ]
  },
  {
   "cell_type": "code",
   "execution_count": 9,
   "metadata": {},
   "outputs": [
    {
     "data": {
      "text/plain": [
       "  Amphispiza bilineata                 1\n",
       "  Amphispiza bilineata                 1\n",
       "Ammodramus savannarum                  2\n",
       "Ammospermophilis harrisi               1\n",
       "Ammospermophilus harrisi             435\n",
       "Ammospermophilus harrisii              1\n",
       "Amphespiza bilineata                   7\n",
       "Amphispiza bilineata                 289\n",
       "Amphispiza bilineatus                  1\n",
       "Amphispiza cilineata                   1\n",
       "Amphispizo bilineata                   1\n",
       "Baiomys taylori                       46\n",
       "Calamospiza melanocorys                1\n",
       "Callipepla squamata                    1\n",
       "Campylorhynchus brunneicapillus        1\n",
       "Chaetodipus baileyi                    2\n",
       "Cnemidophorus tigris                   1\n",
       "Cnemidophorus uniparens                1\n",
       "Crotalus scutalatus                    1\n",
       "Crotalus viridis                       1\n",
       "Dipodomys merriami                 10596\n",
       "Dipodomys ordii                     3027\n",
       "Dipodomys spectabilis               2504\n",
       "Dipodomys sp.                         40\n",
       "Emphispiza bilinata                    2\n",
       "Onychomys leucogaster               1006\n",
       "Onychomys torridus                  2249\n",
       "Onychomys sp.                         12\n",
       "Name: scientificName, dtype: int64"
      ]
     },
     "execution_count": 9,
     "metadata": {},
     "output_type": "execute_result"
    }
   ],
   "source": [
    "# Previewing the function fo the scientific name column with the string not being processed\n",
    "\n",
    "text_facet(initial_df, 'scientificName')\n"
   ]
  },
  {
   "cell_type": "code",
   "execution_count": 10,
   "metadata": {},
   "outputs": [],
   "source": [
    "# Applying the string processing function to the dataframe\n",
    "string_processing(initial_df)"
   ]
  },
  {
   "cell_type": "code",
   "execution_count": 11,
   "metadata": {},
   "outputs": [
    {
     "data": {
      "text/plain": [
       "Ammodramus savannarum                  2\n",
       "Ammospermophilis harrisi               1\n",
       "Ammospermophilus harrisi             435\n",
       "Ammospermophilus harrisii              1\n",
       "Amphespiza bilineata                   7\n",
       "Amphispiza bilineata                 291\n",
       "Amphispiza bilineatus                  1\n",
       "Amphispiza cilineata                   1\n",
       "Amphispizo bilineata                   1\n",
       "Baiomys taylori                       46\n",
       "Calamospiza melanocorys                1\n",
       "Callipepla squamata                    1\n",
       "Campylorhynchus brunneicapillus        1\n",
       "Chaetodipus baileyi                    2\n",
       "Cnemidophorus tigris                   1\n",
       "Cnemidophorus uniparens                1\n",
       "Crotalus scutalatus                    1\n",
       "Crotalus viridis                       1\n",
       "Dipodomys merriami                 10596\n",
       "Dipodomys ordii                     3027\n",
       "Dipodomys sp.                         40\n",
       "Dipodomys spectabilis               2504\n",
       "Emphispiza bilinata                    2\n",
       "Onychomys leucogaster               1006\n",
       "Onychomys sp.                         12\n",
       "Onychomys torridus                  2249\n",
       "Name: scientificName, dtype: int64"
      ]
     },
     "execution_count": 11,
     "metadata": {},
     "output_type": "execute_result"
    }
   ],
   "source": [
    "# Previewing the function fo the scientific name column with the string processed\n",
    "\n",
    "text_facet(initial_df, 'scientificName')\n"
   ]
  },
  {
   "cell_type": "code",
   "execution_count": 12,
   "metadata": {},
   "outputs": [],
   "source": [
    "def numeric_facet(df, column, use_log_scaling=False):\n",
    "    # Check if the column is a numeric column\n",
    "    if df[column].dtype.kind in 'iufc':\n",
    "        # Use the text_facet function to clean up the column values\n",
    "        updated_df = text_facet(df, column)\n",
    "        # Use sns.histplot to create a histogram of the column values, x is column value here so we use log_scaling == False\n",
    "        sns.histplot(df, x=column, log_scale=(False, use_log_scaling), hue=column, legend= False)\n",
    "        # Print the cleaned up column values\n",
    "        print(f\"The column {column} has the following values:\")\n",
    "        print(updated_df)\n",
    "    else:\n",
    "        # Print an error message if the column is not a numeric column\n",
    "        print(f\"The column {column} is not a numeric column\")\n"
   ]
  },
  {
   "cell_type": "code",
   "execution_count": 13,
   "metadata": {},
   "outputs": [
    {
     "name": "stdout",
     "output_type": "stream",
     "text": [
      "The column yr has the following values:\n",
      "1977     503\n",
      "1978    1048\n",
      "1979     719\n",
      "1980    1415\n",
      "1981    1472\n",
      "1982    1978\n",
      "1983    1673\n",
      "1984     981\n",
      "1985    1438\n",
      "1986     942\n",
      "1987    1671\n",
      "1988    1469\n",
      "1989    1569\n",
      "1990    1311\n",
      "1991    1347\n",
      "1992    1038\n",
      "1993     750\n",
      "1994     668\n",
      "1995    1222\n",
      "1996    1706\n",
      "1997    2493\n",
      "1998    1610\n",
      "1999    1135\n",
      "2000    1552\n",
      "2001    1610\n",
      "2002    2229\n",
      "Name: yr, dtype: int64\n"
     ]
    },
    {
     "data": {
      "image/png": "[encoded data removed]",
      "text/plain": [
       "<Figure size 432x288 with 1 Axes>"
      ]
     },
     "metadata": {
      "needs_background": "light"
     },
     "output_type": "display_data"
    }
   ],
   "source": [
    "# Trying out the value on a numeric column such as yr \n",
    "numeric_facet(initial_df, 'yr', True)"
   ]
  },
  {
   "cell_type": "code",
   "execution_count": 28,
   "metadata": {},
   "outputs": [],
   "source": [
    "# Creating a scatterplot facet for the numerical data\n",
    "\n",
    "def scatter_facet(df, column:str):\n",
    "    if df[column].dtype.kind in 'iufc':\n",
    "        updated_df = text_facet(df, column)\n",
    "        sns.scatterplot(data=df, x=column, y=df[column].value_counts(), hue=column, legend=False)\n",
    "        print(f\"The column {column} has the following values:\")\n",
    "        print(updated_df)\n",
    "    \n",
    "    else:\n",
    "        # Print an error message if the column is not a numeric column\n",
    "        print(f\"The column {column} is not a numeric column\")\n",
    "\n",
    "        "
   ]
  },
  {
   "cell_type": "code",
   "execution_count": 32,
   "metadata": {},
   "outputs": [
    {
     "name": "stdout",
     "output_type": "stream",
     "text": [
      "The column mo has the following values:\n",
      "1     2518\n",
      "2     2796\n",
      "3     3390\n",
      "4     3443\n",
      "5     3073\n",
      "6     2697\n",
      "7     3633\n",
      "8     2369\n",
      "9     2751\n",
      "10    3064\n",
      "11    3016\n",
      "12    2799\n",
      "Name: mo, dtype: int64\n"
     ]
    },
    {
     "data": {
      "image/png": "[encoded data removed]",
      "text/plain": [
       "<Figure size 432x288 with 1 Axes>"
      ]
     },
     "metadata": {
      "needs_background": "light"
     },
     "output_type": "display_data"
    }
   ],
   "source": [
    "# Trying with a numerical column \n",
    "scatter_facet(initial_df, 'mo')"
   ]
  },
  {
   "cell_type": "code",
   "execution_count": 30,
   "metadata": {},
   "outputs": [
    {
     "name": "stdout",
     "output_type": "stream",
     "text": [
      "The column scientificName is not a numeric column\n"
     ]
    }
   ],
   "source": [
    "# Trying it with a non-numerical column\n",
    "\n",
    "scatter_facet(initial_df, 'scientificName')"
   ]
  },
  {
   "attachments": {},
   "cell_type": "markdown",
   "metadata": {},
   "source": [
    "# Part 3: Clustering the data"
   ]
  },
  {
   "cell_type": "code",
   "execution_count": 16,
   "metadata": {},
   "outputs": [],
   "source": [
    "\n",
    "def cluster_data(df, column: str):\n",
    "    # Get all unique values in the given column\n",
    "    columns = df[column].unique()\n",
    "    # Filter out null values\n",
    "    columns = np.asarray(list(filter(lambda x: pd.isnull(x) == False , columns)))\n",
    "\n",
    "    \n",
    "    # Check if all values are strings\n",
    "    if not all(isinstance(x, str) for x in columns):\n",
    "        return f\"All the values in column {column} are not strings\"\n",
    "    \n",
    "    print(f'Beginning clustering for column {column}...')\n",
    "\n",
    "    \n",
    "    # Compute a similarity matrix for all values using Levenshtein distance\n",
    "    sim_matrix = -1*np.array([[dist.levenshtein(value1, value2) for value1 in columns] for value2 in columns])\n",
    "    # Perform affinity propagation clustering on the similarity matrix\n",
    "    aff_prop = AffinityPropagation(affinity=\"precomputed\", damping=0.5)\n",
    "    aff_prop.fit(sim_matrix)\n",
    "    \n",
    "    # Iterate over all clusters\n",
    "    for cluster_id in np.unique(aff_prop.labels_):\n",
    "        # Find the cluster center (i.e., value that is most similar to all other values in the cluster)\n",
    "        new_col_name = columns[aff_prop.cluster_centers_indices_[cluster_id]]\n",
    "        # Find all values that belong to the current cluster\n",
    "        cluster = np.unique(columns[np.nonzero(aff_prop.labels_==cluster_id)])\n",
    "        # Print the cluster center and all values in the cluster\n",
    "        print(\"\\nCluster number: \" + str(cluster_id) + \": \" + new_col_name)\n",
    "        print(cluster)\n",
    "        # Replace all values in the cluster with the cluster center value\n",
    "        for x in cluster:\n",
    "            df.loc[df[column] == x, column] = new_col_name\n"
   ]
  },
  {
   "cell_type": "code",
   "execution_count": 17,
   "metadata": {},
   "outputs": [
    {
     "name": "stdout",
     "output_type": "stream",
     "text": [
      "Beginning clustering for column scientificName...\n",
      "\n",
      "Cluster number: 0: Amphispiza bilineata\n",
      "['Amphespiza bilineata' 'Amphispiza bilineata' 'Amphispiza bilineatus'\n",
      " 'Amphispiza cilineata' 'Amphispizo bilineata' 'Calamospiza melanocorys'\n",
      " 'Emphispiza bilinata']\n",
      "\n",
      "Cluster number: 1: Ammospermophilus harrisi\n",
      "['Ammospermophilis harrisi' 'Ammospermophilus harrisi'\n",
      " 'Ammospermophilus harrisii']\n",
      "\n",
      "Cluster number: 2: Campylorhynchus brunneicapillus\n",
      "['Campylorhynchus brunneicapillus']\n",
      "\n",
      "Cluster number: 3: Cnemidophorus tigris\n",
      "['Cnemidophorus tigris' 'Cnemidophorus uniparens']\n",
      "\n",
      "Cluster number: 4: Crotalus scutalatus\n",
      "['Ammodramus savannarum' 'Callipepla squamata' 'Crotalus scutalatus'\n",
      " 'Crotalus viridis']\n",
      "\n",
      "Cluster number: 5: Dipodomys ordii\n",
      "['Baiomys taylori' 'Chaetodipus baileyi' 'Dipodomys merriami'\n",
      " 'Dipodomys ordii' 'Dipodomys sp.' 'Dipodomys spectabilis']\n",
      "\n",
      "Cluster number: 6: Onychomys torridus\n",
      "['Onychomys leucogaster' 'Onychomys sp.' 'Onychomys torridus']\n"
     ]
    }
   ],
   "source": [
    "# Cluster the data for the scientficName column \n",
    "cluster_data(initial_df, 'scientificName')"
   ]
  },
  {
   "cell_type": "code",
   "execution_count": 18,
   "metadata": {},
   "outputs": [
    {
     "data": {
      "text/plain": [
       "'All the values in column yr are not strings'"
      ]
     },
     "execution_count": 18,
     "metadata": {},
     "output_type": "execute_result"
    }
   ],
   "source": [
    "# Cluster the data for the yr column\n",
    "\n",
    "cluster_data(initial_df, 'yr')"
   ]
  }
 ],
 "metadata": {
  "kernelspec": {
   "display_name": "base",
   "language": "python",
   "name": "python3"
  },
  "language_info": {
   "codemirror_mode": {
    "name": "ipython",
    "version": 3
   },
   "file_extension": ".py",
   "mimetype": "text/x-python",
   "name": "python",
   "nbconvert_exporter": "python",
   "pygments_lexer": "ipython3",
   "version": "3.9.5"
  },
  "orig_nbformat": 4
 },
 "nbformat": 4,
 "nbformat_minor": 2
}
