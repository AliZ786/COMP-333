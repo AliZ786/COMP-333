{
 "cells": [
  {
   "cell_type": "code",
   "execution_count": null,
   "metadata": {},
   "outputs": [],
   "source": [
    "# Mohammad Ali Zahir\n",
    "# Student ID: 40077619\n",
    "# COMP 333 - Data Analytics\n",
    "# Objective: Write your own Python functions quantDDA() and vizDDA() within the notebook, and illustrate their use within the notebook.\n",
    "# Output: Visualization of all the functions"
   ]
  },
  {
   "attachments": {},
   "cell_type": "markdown",
   "metadata": {},
   "source": [
    "## Step 1:  Quantitative Descriptions (6 marks)"
   ]
  },
  {
   "cell_type": "code",
   "execution_count": 1,
   "metadata": {},
   "outputs": [],
   "source": [
    "# Import required librairies\n",
    "import pandas as pd \n",
    "\n"
   ]
  },
  {
   "cell_type": "code",
   "execution_count": 13,
   "metadata": {},
   "outputs": [],
   "source": [
    "# Create the quantDDA function\n",
    "\n",
    "def quantDDA(filename:str):\n",
    "  df = pd.read_csv(filename)\n",
    "  description_dict = {}\n",
    "  for key in df.keys():\n",
    "    temp_dict = {}\n",
    "    observations = df[key].shape[0]\n",
    "    unique_entries = df[key].nunique()\n",
    "    missing_entries = df[key].isna().sum()\n",
    "    entries = observations - missing_entries\n",
    "    temp_dict['Number of Observations'] = observations\n",
    "    temp_dict['Number of Entries'] = entries\n",
    "    temp_dict['Number of Unique Entries'] = unique_entries\n",
    "    temp_dict['Number of Missing Entries'] = missing_entries\n",
    "    description_dict[key] = temp_dict\n",
    "\n",
    "  return pd.DataFrame.from_dict(description_dict)"
   ]
  },
  {
   "cell_type": "code",
   "execution_count": 14,
   "metadata": {},
   "outputs": [
    {
     "data": {
      "text/html": [
       "<div>\n",
       "<style scoped>\n",
       "    .dataframe tbody tr th:only-of-type {\n",
       "        vertical-align: middle;\n",
       "    }\n",
       "\n",
       "    .dataframe tbody tr th {\n",
       "        vertical-align: top;\n",
       "    }\n",
       "\n",
       "    .dataframe thead th {\n",
       "        text-align: right;\n",
       "    }\n",
       "</style>\n",
       "<table border=\"1\" class=\"dataframe\">\n",
       "  <thead>\n",
       "    <tr style=\"text-align: right;\">\n",
       "      <th></th>\n",
       "      <th>Unnamed: 0</th>\n",
       "      <th>total_bill</th>\n",
       "      <th>tip</th>\n",
       "      <th>sex</th>\n",
       "      <th>smoker</th>\n",
       "      <th>day</th>\n",
       "      <th>time</th>\n",
       "      <th>size</th>\n",
       "    </tr>\n",
       "  </thead>\n",
       "  <tbody>\n",
       "    <tr>\n",
       "      <th>Number of Observations</th>\n",
       "      <td>244</td>\n",
       "      <td>244</td>\n",
       "      <td>244</td>\n",
       "      <td>244</td>\n",
       "      <td>244</td>\n",
       "      <td>244</td>\n",
       "      <td>244</td>\n",
       "      <td>244</td>\n",
       "    </tr>\n",
       "    <tr>\n",
       "      <th>Number of Entries</th>\n",
       "      <td>244</td>\n",
       "      <td>244</td>\n",
       "      <td>244</td>\n",
       "      <td>244</td>\n",
       "      <td>244</td>\n",
       "      <td>244</td>\n",
       "      <td>244</td>\n",
       "      <td>244</td>\n",
       "    </tr>\n",
       "    <tr>\n",
       "      <th>Number of Unique Entries</th>\n",
       "      <td>244</td>\n",
       "      <td>229</td>\n",
       "      <td>123</td>\n",
       "      <td>2</td>\n",
       "      <td>2</td>\n",
       "      <td>4</td>\n",
       "      <td>2</td>\n",
       "      <td>6</td>\n",
       "    </tr>\n",
       "    <tr>\n",
       "      <th>Number of Missing Entries</th>\n",
       "      <td>0</td>\n",
       "      <td>0</td>\n",
       "      <td>0</td>\n",
       "      <td>0</td>\n",
       "      <td>0</td>\n",
       "      <td>0</td>\n",
       "      <td>0</td>\n",
       "      <td>0</td>\n",
       "    </tr>\n",
       "  </tbody>\n",
       "</table>\n",
       "</div>"
      ],
      "text/plain": [
       "                           Unnamed: 0  total_bill  tip  sex  smoker  day  \\\n",
       "Number of Observations            244         244  244  244     244  244   \n",
       "Number of Entries                 244         244  244  244     244  244   \n",
       "Number of Unique Entries          244         229  123    2       2    4   \n",
       "Number of Missing Entries           0           0    0    0       0    0   \n",
       "\n",
       "                           time  size  \n",
       "Number of Observations      244   244  \n",
       "Number of Entries           244   244  \n",
       "Number of Unique Entries      2     6  \n",
       "Number of Missing Entries     0     0  "
      ]
     },
     "execution_count": 14,
     "metadata": {},
     "output_type": "execute_result"
    }
   ],
   "source": [
    "quantDDA(\"../Assignment1/tips.csv\")"
   ]
  }
 ],
 "metadata": {
  "kernelspec": {
   "display_name": "base",
   "language": "python",
   "name": "python3"
  },
  "language_info": {
   "codemirror_mode": {
    "name": "ipython",
    "version": 3
   },
   "file_extension": ".py",
   "mimetype": "text/x-python",
   "name": "python",
   "nbconvert_exporter": "python",
   "pygments_lexer": "ipython3",
   "version": "3.9.5"
  },
  "orig_nbformat": 4,
  "vscode": {
   "interpreter": {
    "hash": "abc030ceda3fa41b1033bd06889a319332e54a2aa5c62425fac5abb05d76f141"
   }
  }
 },
 "nbformat": 4,
 "nbformat_minor": 2
}
