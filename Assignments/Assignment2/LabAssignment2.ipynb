{
 "cells": [
  {
   "cell_type": "code",
   "execution_count": 216,
   "metadata": {},
   "outputs": [],
   "source": [
    "# Mohammad Ali Zahir\n",
    "# Student ID: 40077619\n",
    "# COMP 333 - Data Analytics\n",
    "# Objective: Write your own Python functions quantDDA() and vizDDA() within the notebook, and illustrate their use within the notebook.\n",
    "# Output: Visualization of all the functions"
   ]
  },
  {
   "attachments": {},
   "cell_type": "markdown",
   "metadata": {},
   "source": [
    "## Step 1:  Quantitative Descriptions (6 marks)"
   ]
  },
  {
   "cell_type": "code",
   "execution_count": 217,
   "metadata": {},
   "outputs": [],
   "source": [
    "# Import required librairies\n",
    "import pandas as pd \n",
    "import numpy as np\n",
    "\n"
   ]
  },
  {
   "cell_type": "code",
   "execution_count": 218,
   "metadata": {},
   "outputs": [],
   "source": [
    "# Create the quantDDA function\n",
    "\n",
    "def quantDDA(filename:str):\n",
    "  # Reading the filename to read the dataset\n",
    "  df = pd.read_csv(filename)\n",
    "  # Creating an empty dictionary to store the values in\n",
    "  description_dict = {}\n",
    "\n",
    "  # Loops through all the keys in the dataset and records their statistics one by one\n",
    "  for key in df.keys():\n",
    "    temp_dict = {}\n",
    "    observations = df[key].shape[0]\n",
    "    unique_entries = df[key].nunique()\n",
    "    missing_entries = df[key].isna().sum()\n",
    "    entries = observations - missing_entries\n",
    "    mode = df.mode()[key].dropna().toli\n",
    "    \n",
    "  # Here we deal with non-numeric values. As if the column contains a non-numeric value, we do not include it \n",
    "    if (pd.to_numeric(df[key], errors='coerce').notnull().all()):\n",
    "      mean = df.mean(numeric_only=True)[key]\n",
    "      std = df.std(numeric_only=True)[key]\n",
    "      max = df.max(numeric_only=True)[key]\n",
    "      min = df.min(numeric_only=True)[key]\n",
    "      q3 = df.quantile(0.75, numeric_only=True)[key]\n",
    "      median = df.median(numeric_only=True)[key]\n",
    "      q1 = df.quantile(0.25, numeric_only=True)[key]\n",
    "      skewness = df.skew(numeric_only=True)[key]\n",
    "      kurtosis = df.kurt(numeric_only=True)[key]\n",
    "    \n",
    "  # Returns all the non-numeric values value as NaN\n",
    "    else:\n",
    "      mean = np.nan\n",
    "      std = np.nan\n",
    "      max = np.nan\n",
    "      min = np.nan\n",
    "      q3 = np.nan\n",
    "      median = np.nan\n",
    "      q1 = np.nan\n",
    "      skewness = np.nan\n",
    "      kurtosis = np.nan\n",
    "\n",
    "  # Calculations done for the outliers and extreme values\n",
    "\n",
    "  # Interquartile range\n",
    "    IQR = q3 -q1\n",
    "\n",
    "  # Formulas for the outliers and extreme values respectively\n",
    "    outliers = ((df[key] < (q1 - 1.5 * IQR)) | (df[key] > (q3+ 1.5 * IQR))).sum()\n",
    "    extreme_values = ((df[key] < (q1 - 3.0 * IQR)) | (df[key] > (q3+ 3.0 * IQR))).sum()\n",
    "\n",
    "  # Adding everything everything to the dictionary and then converted to dataframe \n",
    "    temp_dict['Number of Observations'] = observations\n",
    "    temp_dict['Number of Entries'] = entries\n",
    "    temp_dict['Number of Unique Entries'] = unique_entries\n",
    "    temp_dict['Number of Missing Entries'] = missing_entries\n",
    "    temp_dict[\"Number of Outliers\"] = outliers\n",
    "    temp_dict[\"Number of Extreme Values\"] = extreme_values\n",
    "    temp_dict['Mode'] = mode\n",
    "    temp_dict[\"Mean\"] = mean\n",
    "    temp_dict[\"Standard Deviation\"] = std\n",
    "    temp_dict[\"Maximum\"] = max\n",
    "    temp_dict[\"Minimum\"] = min\n",
    "    temp_dict[\"Q3\"] = q3\n",
    "    temp_dict[\"Median (or Q2)\"] = median\n",
    "    temp_dict[\"Q1\"] = q1\n",
    "    temp_dict[\"Skewness\"] = skewness\n",
    "    temp_dict[\"Kurtosis\"] = kurtosis\n",
    "    \n",
    "    \n",
    "\n",
    "    description_dict[key] = temp_dict\n",
    "\n",
    "  updated_df = pd.DataFrame.from_dict(description_dict)\n",
    "  return updated_df"
   ]
  },
  {
   "cell_type": "code",
   "execution_count": null,
   "metadata": {},
   "outputs": [],
   "source": [
    "# Trying with the week 2 restaurant dataset\n",
    "\n",
    "quantDDA(\"./data/tips.csv\")"
   ]
  }
 ],
 "metadata": {
  "kernelspec": {
   "display_name": "base",
   "language": "python",
   "name": "python3"
  },
  "language_info": {
   "codemirror_mode": {
    "name": "ipython",
    "version": 3
   },
   "file_extension": ".py",
   "mimetype": "text/x-python",
   "name": "python",
   "nbconvert_exporter": "python",
   "pygments_lexer": "ipython3",
   "version": "3.9.5"
  },
  "orig_nbformat": 4,
  "vscode": {
   "interpreter": {
    "hash": "abc030ceda3fa41b1033bd06889a319332e54a2aa5c62425fac5abb05d76f141"
   }
  }
 },
 "nbformat": 4,
 "nbformat_minor": 2
}
