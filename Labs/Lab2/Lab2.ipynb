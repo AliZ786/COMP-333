{
 "cells": [
  {
   "cell_type": "code",
   "execution_count": 42,
   "metadata": {},
   "outputs": [],
   "source": [
    "# Mohammad Ali Zahir\n",
    "# Student ID: 40077619\n",
    "\n",
    "# Import the different required librairies\n",
    "\n",
    "import pandas as pd \n",
    "from functools import reduce\n"
   ]
  },
  {
   "cell_type": "code",
   "execution_count": 43,
   "metadata": {},
   "outputs": [
    {
     "name": "stdout",
     "output_type": "stream",
     "text": [
      "John.Doe@company.com\n"
     ]
    }
   ],
   "source": [
    "# Define the employee class\n",
    "\n",
    "class Employee:\n",
    "\n",
    "  def __init__(self, first, last, pay):\n",
    "    self.first = first\n",
    "    self.last = last\n",
    "    self.pay = pay\n",
    "    self.email = first +'.' + last + '@company.com'\n",
    "\n",
    "# Example employee to see if the methods works fine\n",
    "employee1 = Employee(\"John\", \"Doe\", 50000)\n",
    "\n",
    "\n",
    "print(employee1.email)"
   ]
  },
  {
   "cell_type": "code",
   "execution_count": 44,
   "metadata": {},
   "outputs": [
    {
     "data": {
      "text/html": [
       "<div>\n",
       "<style scoped>\n",
       "    .dataframe tbody tr th:only-of-type {\n",
       "        vertical-align: middle;\n",
       "    }\n",
       "\n",
       "    .dataframe tbody tr th {\n",
       "        vertical-align: top;\n",
       "    }\n",
       "\n",
       "    .dataframe thead th {\n",
       "        text-align: right;\n",
       "    }\n",
       "</style>\n",
       "<table border=\"1\" class=\"dataframe\">\n",
       "  <thead>\n",
       "    <tr style=\"text-align: right;\">\n",
       "      <th></th>\n",
       "      <th>First Name</th>\n",
       "      <th>Last Name</th>\n",
       "      <th>Pay</th>\n",
       "    </tr>\n",
       "  </thead>\n",
       "  <tbody>\n",
       "    <tr>\n",
       "      <th>0</th>\n",
       "      <td>John</td>\n",
       "      <td>Doe</td>\n",
       "      <td>15000</td>\n",
       "    </tr>\n",
       "    <tr>\n",
       "      <th>1</th>\n",
       "      <td>Sami</td>\n",
       "      <td>Payn</td>\n",
       "      <td>25000</td>\n",
       "    </tr>\n",
       "    <tr>\n",
       "      <th>2</th>\n",
       "      <td>Jean</td>\n",
       "      <td>Able</td>\n",
       "      <td>35000</td>\n",
       "    </tr>\n",
       "    <tr>\n",
       "      <th>3</th>\n",
       "      <td>Man</td>\n",
       "      <td>Spread</td>\n",
       "      <td>45000</td>\n",
       "    </tr>\n",
       "    <tr>\n",
       "      <th>4</th>\n",
       "      <td>Luke</td>\n",
       "      <td>Emia</td>\n",
       "      <td>55000</td>\n",
       "    </tr>\n",
       "  </tbody>\n",
       "</table>\n",
       "</div>"
      ],
      "text/plain": [
       "  First Name Last Name    Pay\n",
       "0       John       Doe  15000\n",
       "1       Sami      Payn  25000\n",
       "2       Jean      Able  35000\n",
       "3        Man    Spread  45000\n",
       "4       Luke      Emia  55000"
      ]
     },
     "execution_count": 44,
     "metadata": {},
     "output_type": "execute_result"
    }
   ],
   "source": [
    "# Read the file using the pandas library and then print the contents to see if it worked\n",
    "\n",
    "spreadsheet = pd.read_csv(\"./Employee.csv\")\n",
    "spreadsheet.head()\n"
   ]
  },
  {
   "cell_type": "code",
   "execution_count": 45,
   "metadata": {},
   "outputs": [],
   "source": [
    "# function which defines the average value of a list using map and lambda\n",
    "\n",
    "def average(lst, fn = lambda x:x):\n",
    "  return sum(map(fn, lst), 0.0) / len(lst)"
   ]
  },
  {
   "cell_type": "code",
   "execution_count": 46,
   "metadata": {},
   "outputs": [
    {
     "name": "stdout",
     "output_type": "stream",
     "text": [
      "The email of all the employees from the file are: \n",
      "\n",
      "0      John.Doe@company.com\n",
      "1     Sami.Payn@company.com\n",
      "2     Jean.Able@company.com\n",
      "3    Man.Spread@company.com\n",
      "4     Luke.Emia@company.com\n",
      "dtype: object\n"
     ]
    }
   ],
   "source": [
    "# convert the read file into a panda dataframe \n",
    "df = pd.DataFrame(spreadsheet)\n",
    "\n",
    "# Reads the employee in the function we made\n",
    "employee = Employee(df[\"First Name\"], df[\"Last Name\"], df[\"Pay\"])\n",
    "\n",
    "# Prints all the emails of the employees to see if the employee class works \n",
    "print(\"The email of all the employees from the file are: \")\n",
    "print()\n",
    "print(employee.email)\n"
   ]
  },
  {
   "cell_type": "code",
   "execution_count": 47,
   "metadata": {},
   "outputs": [
    {
     "name": "stdout",
     "output_type": "stream",
     "text": [
      "The total pay for all the employees in the file is: $ 175000\n",
      "The average pay of the employees from the file is: $ 35000.0\n"
     ]
    }
   ],
   "source": [
    "# use the average function to calculate the average pay of the employees \n",
    "avg_pay = str(average(df[\"Pay\"]))\n",
    "\n",
    "# use the reduce function to calculate the sum of the employees\n",
    "sum_pay = str(reduce(lambda x, y:x+y, df[\"Pay\"]))\n",
    "\n",
    "# print both total and average values \n",
    "print(f\"The total pay for all the employees in the file is: $ {sum_pay}\")\n",
    "\n",
    "print(f\"The average pay of the employees from the file is: $ {avg_pay}\")"
   ]
  }
 ],
 "metadata": {
  "kernelspec": {
   "display_name": "comp472",
   "language": "python",
   "name": "python3"
  },
  "language_info": {
   "codemirror_mode": {
    "name": "ipython",
    "version": 3
   },
   "file_extension": ".py",
   "mimetype": "text/x-python",
   "name": "python",
   "nbconvert_exporter": "python",
   "pygments_lexer": "ipython3",
   "version": "3.9.15"
  },
  "orig_nbformat": 4,
  "vscode": {
   "interpreter": {
    "hash": "37307f9f2837a1db479c94ed8b007ae286b4add7ae840d567203d5f4580c616c"
   }
  }
 },
 "nbformat": 4,
 "nbformat_minor": 2
}
